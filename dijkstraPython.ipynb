{
 "cells": [
  {
   "cell_type": "code",
   "execution_count": 2,
   "id": "6bd87300",
   "metadata": {},
   "outputs": [
    {
     "name": "stdout",
     "output_type": "stream",
     "text": [
      "Node \tDistance from  0\n",
      "0 \t 0\n",
      "1 \t 1\n",
      "2 \t 6\n",
      "3 \t 3\n",
      "4 \t 14\n",
      "5 \t 18\n",
      "6 \t 16\n"
     ]
    }
   ],
   "source": [
    "class Graph(): \n",
    "    def __init__(self, n):\n",
    "        self.distArray = [0 for i in range(n)]\n",
    "        self.vistSet = [0 for i in range(n)]\n",
    "        self.V = n\n",
    "        self.INF = 1000000\n",
    "        self.graph = [[0 for column in range(n)]  \n",
    "                    for row in range(n)]\n",
    "   \n",
    "    def dijkstra(self, srcNode):\n",
    "        for i in range(self.V):\n",
    "          self.distArray[i] = self.INF\n",
    "          self.vistSet[i] = False\n",
    "        self.distArray[srcNode] = 0\n",
    "        for i in range(self.V): \n",
    "            u = self.minDistance(self.distArray, self.vistSet) \n",
    "            self.vistSet[u] = True\n",
    "            for v in range(self.V): \n",
    "                if self.graph[u][v] > 0 and self.vistSet[v] == False and self.distArray[v] > self.distArray[u] + self.graph[u][v]: \n",
    "                        self.distArray[v] = self.distArray[u] + self.graph[u][v] \n",
    "        self.printSolution(self.distArray,srcNode)\n",
    "    def minDistance(self, distArray, vistSet): \n",
    "        min = self.INF\n",
    "        for v in range(self.V): \n",
    "            if distArray[v] < min and vistSet[v] == False: \n",
    "                min = distArray[v] \n",
    "                min_index = v \n",
    "  \n",
    "        return min_index\n",
    "\n",
    "    def printSolution(self, distArray,srcNode): \n",
    "        print (\"Node \\tDistance from \",srcNode)\n",
    "        for i in range(self.V): \n",
    "            print (i, \"\\t\", distArray[i])\n",
    "#Display our table\n",
    "ourGraph = Graph(7) \n",
    "ourGraph.graph = [[0, 1, 6, 0, 0, 0, 0], \n",
    "        [5, 0, 0, 2, 0, 0, 0], \n",
    "        [6, 7, 0, 8, 0, 0, 0], \n",
    "        [0, 0, 8, 0, 11, 16, 0], \n",
    "        [0, 0, 0, 10, 0, 7, 2], \n",
    "        [0, 0, 0, 18, 6, 0, 5], \n",
    "        [0, 0, 0, 0, 4, 2, 0],\n",
    "        ]; \n",
    "  \n",
    "ourGraph.dijkstra(0);"
   ]
  },
  {
   "cell_type": "code",
   "execution_count": null,
   "id": "7b6f511c",
   "metadata": {},
   "outputs": [],
   "source": []
  }
 ],
 "metadata": {
  "kernelspec": {
   "display_name": "Python 3",
   "language": "python",
   "name": "python3"
  },
  "language_info": {
   "codemirror_mode": {
    "name": "ipython",
    "version": 3
   },
   "file_extension": ".py",
   "mimetype": "text/x-python",
   "name": "python",
   "nbconvert_exporter": "python",
   "pygments_lexer": "ipython3",
   "version": "3.9.5"
  }
 },
 "nbformat": 4,
 "nbformat_minor": 5
}
